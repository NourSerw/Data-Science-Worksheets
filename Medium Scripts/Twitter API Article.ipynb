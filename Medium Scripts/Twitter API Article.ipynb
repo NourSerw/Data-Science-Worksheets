{
 "cells": [
  {
   "cell_type": "code",
   "execution_count": 1,
   "metadata": {},
   "outputs": [],
   "source": [
    "import requests\n",
    "import json"
   ]
  },
  {
   "cell_type": "markdown",
   "metadata": {},
   "source": [
    "## Hashtag "
   ]
  },
  {
   "cell_type": "code",
   "execution_count": 2,
   "metadata": {},
   "outputs": [],
   "source": [
    "bearer_token = \"INSERT_BEARER_TOKEN\""
   ]
  },
  {
   "cell_type": "code",
   "execution_count": 3,
   "metadata": {},
   "outputs": [],
   "source": [
    "url = \"https://api.twitter.com/2/tweets/search/recent?query=\""
   ]
  },
  {
   "cell_type": "code",
   "execution_count": 4,
   "metadata": {},
   "outputs": [],
   "source": [
    "twitter_params = \"WednesdayMotivation\""
   ]
  },
  {
   "cell_type": "code",
   "execution_count": 5,
   "metadata": {},
   "outputs": [],
   "source": [
    "url = url + twitter_params"
   ]
  },
  {
   "cell_type": "code",
   "execution_count": 6,
   "metadata": {},
   "outputs": [],
   "source": [
    "headers = {\"Authorization\": \"Bearer {}\".format(bearer_token)}"
   ]
  },
  {
   "cell_type": "code",
   "execution_count": 7,
   "metadata": {},
   "outputs": [],
   "source": [
    "response = requests.request(\"GET\", url, headers=headers)"
   ]
  },
  {
   "cell_type": "code",
   "execution_count": 8,
   "metadata": {},
   "outputs": [],
   "source": [
    "res_json = response.json()"
   ]
  },
  {
   "cell_type": "code",
   "execution_count": 9,
   "metadata": {},
   "outputs": [
    {
     "data": {
      "text/plain": [
       "{'data': [{'id': '1359615941265489922',\n",
       "   'text': 'RT @owl3533: Love this quote. “Even the mightiest of rivers started with a drop of water.”#WednesdayMotivation #Shenmue https://t.co/PccLyb…'},\n",
       "  {'id': '1359615928581971975',\n",
       "   'text': 'CHIP OF THE WEEK⚡️🔥\\n#Doritos #FlamingHot #Frito #WednesdayMotivation #2021year #Toronto https://t.co/zEr6RXAPwP'},\n",
       "  {'id': '1359615926228910082',\n",
       "   'text': 'RT @ernest6words: Big journeys begin with small steps. \\n#LifeLessons #quotestoliveby #Wednesdayvibe #WednesdayWisdom #wednesdaythought  #We…'},\n",
       "  {'id': '1359615901734158340',\n",
       "   'text': 'RT @serenece: #WednesdayMotivation \\n\\n#TrumpInsurrection \\n#TrumpImpeachmentTrial \\n\\n#JusticeMatters #RBGLegacy \\n#NoUnityWithoutAccountability…'},\n",
       "  {'id': '1359615901335760905',\n",
       "   'text': '#WednesdayMotivation #TwitteRx Looking to learn more about #HistPharm #HistMed? Check out this blog post from @HigbyGreg I proudly serve on the @HistPharm Board of Directors. Understanding the past helps us create the future #pharmacists #innovation @LucRichert @UWMadPharmacy https://t.co/PaYNRatdcp'},\n",
       "  {'id': '1359615786667679745',\n",
       "   'text': 'RT @roddenberry: Wednesday wisdom. \\n\\n#roddenberry #generoddenberry #WednesdayMotivation https://t.co/Wu10WW3Xl1'},\n",
       "  {'id': '1359615740119244800',\n",
       "   'text': 'Put yourself first.\\n\\n#iplanmyfuture #hustle #bestquotesfromiplanmyfuture #successTRAIN #ThriveTogether\\xa0 #wednesdaymotivation\\xa0 #wednesdaythoughts #entrepreneur #defstar5 #mpgvip #makeyourownlane #makeithappen https://t.co/4zDvO4sMEQ https://t.co/ytjSgyT0sY'},\n",
       "  {'id': '1359615729100849154',\n",
       "   'text': 'Dm me any sexy pictures \\n\\n#men #boy #girl #teen #jailbait #hornyteen #horny #hornygirl #hornymen #dm #sex #fuck #sexy #slut #cum #cumshot #ass #pussy #tits #feet #nsfw #dickrate #bbc #snowbunny #cockrate #usa \\xa0#onlyfans #slut #girl #raceplay #WednesdayMotivation #slut'},\n",
       "  {'id': '1359615724549902336',\n",
       "   'text': 'The evolution of DevOps to DevAI: https://t.co/ihafd8UWhu\\n\\n#Evolution #DevOps #DevAI #Tech #Future #WednesdayWisdom #WednesdayMotivation https://t.co/BKzbhvdEyO'},\n",
       "  {'id': '1359615710268452877',\n",
       "   'text': 'CBD for Pets. Now On sale! \\nhttps://t.co/O3KIkRfr4X\\n\\n#cbd #wednesday #wednesdaywisdom #wednesdaymotivation #cbdpets #doglife #doglover #petlife #withme #cbdlife #wednesdayfunday #Wednesday https://t.co/AUcwAvizPC'}],\n",
       " 'meta': {'newest_id': '1359615941265489922',\n",
       "  'oldest_id': '1359615710268452877',\n",
       "  'result_count': 10,\n",
       "  'next_token': 'b26v89c19zqg8o3foskv98oa0485m3rfvdf47r2b13qt9'}}"
      ]
     },
     "execution_count": 9,
     "metadata": {},
     "output_type": "execute_result"
    }
   ],
   "source": [
    "res_json"
   ]
  },
  {
   "cell_type": "markdown",
   "metadata": {},
   "source": [
    "## Twitter Conversation"
   ]
  },
  {
   "cell_type": "code",
   "execution_count": 10,
   "metadata": {},
   "outputs": [],
   "source": [
    "conversation_url = \"https://api.twitter.com/2/tweets/search/recent?tweet.fields=author_id\" \\\n",
    "+ \"&query=conversation_id:1359510935963013124\""
   ]
  },
  {
   "cell_type": "code",
   "execution_count": 11,
   "metadata": {},
   "outputs": [],
   "source": [
    "convo_response = requests.request(\"GET\", conversation_url, headers=headers)"
   ]
  },
  {
   "cell_type": "code",
   "execution_count": 12,
   "metadata": {},
   "outputs": [],
   "source": [
    "convo_response = convo_response.json()"
   ]
  },
  {
   "cell_type": "code",
   "execution_count": 13,
   "metadata": {},
   "outputs": [
    {
     "name": "stdout",
     "output_type": "stream",
     "text": [
      "@ajplus “Colonial noose” I love that term\n",
      "@ajplus @ToddScottNBR He...walks...around...wearing...a...cowboy...hat\n",
      "@BadNogbad @ks36848645 @ajplus Curious spell check\n",
      "\n",
      "*Mataora\n",
      "\n",
      "And, not sure how the “pun” slipped in...\n",
      "@theyucatanman @ajplus The Prince was not actually a user manual jsyk\n",
      "\n",
      "Try Schelling\n",
      "@OConnorColette @ajplus this was literally the problem at hand. they did not recognize his tie, while simultaneously recognizing \"non-standard\" ties of other mps. personally i don't care for formal dress but you are literally describing what the uproar was about.\n",
      "@ajplus @notn4zar Also calling a necktie a colonial noose while wearing a cowboy hat is really jarring\n",
      "@ajplus @notn4zar On one hand getting kicked out for not wearing a tie is stupid. On the other hand, colonial noose. Really? Who wants to tell him that the modern necktie basically stems from the Industrial Revolution working class wanting easy to wear neckwear?\n",
      "@jumexofficial @BadNogbad @ajplus A god-given right: giving other people diseases with lifelong health impacts \n",
      "\n",
      "Not a right: choice of personal neckwear \n",
      "\n",
      "Starting to think this principle might not be entirely consistent\n",
      "@OConnorColette @ajplus Just wear a tie if you want. They haven't been banned.\n",
      "@tauriscus1 @BadNogbad @ajplus \"Move on\" lol says the ones complaining about things hundreds of years ago\n"
     ]
    }
   ],
   "source": [
    "for i in range(0, len(convo_response['data'])):\n",
    "    print(convo_response['data'][i]['text'])"
   ]
  },
  {
   "cell_type": "code",
   "execution_count": null,
   "metadata": {},
   "outputs": [],
   "source": []
  }
 ],
 "metadata": {
  "kernelspec": {
   "display_name": "Python 3",
   "language": "python",
   "name": "python3"
  },
  "language_info": {
   "codemirror_mode": {
    "name": "ipython",
    "version": 3
   },
   "file_extension": ".py",
   "mimetype": "text/x-python",
   "name": "python",
   "nbconvert_exporter": "python",
   "pygments_lexer": "ipython3",
   "version": "3.8.2"
  }
 },
 "nbformat": 4,
 "nbformat_minor": 4
}
